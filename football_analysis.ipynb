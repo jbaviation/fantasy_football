{
 "cells": [
  {
   "cell_type": "markdown",
   "source": [
    "# Fantasy Football Analysis\r\n",
    "Utilizing the yahoo-fantasy-api, this notebook explores data from the fantasy football league to draw analytical conclusions.\r\n",
    "\r\n",
    "Start by pulling in the necessary libraries and generating OAuth2 configuration from Yahoo's API."
   ],
   "metadata": {}
  },
  {
   "cell_type": "code",
   "execution_count": null,
   "source": [
    "from yahoo_oauth import OAuth2\r\n",
    "import yahoo_fantasy_api as yfa\r\n",
    "import yff\r\n",
    "import google_sheets as gs\r\n",
    "import pandas as pd\r\n",
    "import numpy as np\r\n",
    "import matplotlib.pyplot as plt\r\n",
    "from bs4 import BeautifulSoup\r\n",
    "import requests\r\n",
    "import re\r\n",
    "%matplotlib inline\r\n",
    "\r\n",
    "from importlib import reload\r\n",
    "reload(gs)\r\n",
    "reload(yff)\r\n",
    "\r\n",
    "oauth = OAuth2(None, None, from_file='yahoo.json')"
   ],
   "outputs": [],
   "metadata": {}
  },
  {
   "cell_type": "markdown",
   "source": [
    "## Explore 2020 Season"
   ],
   "metadata": {}
  },
  {
   "cell_type": "code",
   "execution_count": null,
   "source": [
    "reload(yff)\r\n",
    "\r\n",
    "# Create season object\r\n",
    "ssn20 = yff.fantasy_season(oauth, 2020)"
   ],
   "outputs": [],
   "metadata": {}
  },
  {
   "cell_type": "code",
   "execution_count": null,
   "source": [
    "ssn20.get_team_data('9')"
   ],
   "outputs": [],
   "metadata": {}
  },
  {
   "cell_type": "markdown",
   "source": [
    "## Draft Prep\r\n",
    "Pull Player Data and Rankings From Various Websites"
   ],
   "metadata": {}
  },
  {
   "cell_type": "code",
   "execution_count": 73,
   "source": [
    "# Sporting News\r\n",
    "def sn_df():\r\n",
    "    url = 'https://www.sportingnews.com/us/fantasy/news/fantasy-superflex-rankings-2021-top-200-ppr/ze1ic3xfl0gd1eptktn9jkodm'\r\n",
    "    df = pd.read_html(url, header=0)[0]\r\n",
    "    split_df = df['Player'].str.split(',', expand=True)\r\n",
    "    df['Player'] = split_df[0]\r\n",
    "    df['Team'] = split_df[1]\r\n",
    "    return df\r\n",
    "\r\n",
    "# ESPN\r\n",
    "def espn_df():\r\n",
    "    url = 'https://www.espn.com/fantasy/football/story/_/id/32008027/tristan-h-cockcroft-updated-2021-fantasy-football-rankings-superflex-2-qb-leagues'\r\n",
    "    req = requests.get(url)\r\n",
    "    soup = BeautifulSoup(req.content)\r\n",
    "    para = [\"Player\", \"Eligible Pos\", \"Team\", \"Pos Rank\"]\r\n",
    "    ls = soup.find_all('p')[2].text\r\n",
    "    ls = re.split(r'\\n', ls)  # remove newline characters\r\n",
    "    df = pd.DataFrame([re.split(r'(?:\\A\\w+\\.)|(?:,)', txt) for txt in ls]).drop(0, axis=1).drop(0, axis=0)\r\n",
    "    df.columns = para\r\n",
    "    df = df.rename({'Eligible Pos': 'Position'}, axis=1)\r\n",
    "    return df\r\n",
    "\r\n",
    "# CBS Sports\r\n",
    "def cbs_df():\r\n",
    "    df = pd.read_csv(r\"C:\\Users\\jborman\\Downloads\\cbs.csv\", header=None)\r\n",
    "    df['Position'] = df[0].str.extract(r'\\((\\w+)\\)')\r\n",
    "    name_team = df[0].str.slice(stop=-4).str.rstrip()\r\n",
    "    df['Team'] = name_team.str.extract(r'(\\w+\\Z)')\r\n",
    "    df['Player'] = name_team.str.split(r'\\xa0').str[0]\r\n",
    "    df = df[['Player', 'Team', 'Position']]\r\n",
    "    return df"
   ],
   "outputs": [],
   "metadata": {}
  },
  {
   "cell_type": "code",
   "execution_count": 74,
   "source": [
    "# _ = [print(df.Team.unique()) for df in [sn(), espn(), cbs()]]\r\n",
    "\r\n",
    "sn = sn_df()\r\n",
    "sn = sn.rename({'Rank': 'SN Rank'}, axis=1)\r\n",
    "sn\r\n"
   ],
   "outputs": [
    {
     "output_type": "execute_result",
     "data": {
      "text/plain": [
       "     Rank                 Player Position        Team\n",
       "0       1        Patrick Mahomes       QB      Chiefs\n",
       "1       2    Christian McCaffrey       RB    Panthers\n",
       "2       3           Kyler Murray       QB   Cardinals\n",
       "3       4             Josh Allen       QB       Bills\n",
       "4       5           Alvin Kamara       RB      Saints\n",
       "..    ...                    ...      ...         ...\n",
       "195   196  Cordarrelle Patterson       RB     Falcons\n",
       "196   197         Kadarius Toney       WR      Giants\n",
       "197   198           Elijah Moore       WR        Jets\n",
       "198   199              Zach Ertz       TE      Eagles\n",
       "199   200         Gerald Everett       TE    Seahawks\n",
       "\n",
       "[200 rows x 4 columns]"
      ],
      "text/html": [
       "<div>\n",
       "<style scoped>\n",
       "    .dataframe tbody tr th:only-of-type {\n",
       "        vertical-align: middle;\n",
       "    }\n",
       "\n",
       "    .dataframe tbody tr th {\n",
       "        vertical-align: top;\n",
       "    }\n",
       "\n",
       "    .dataframe thead th {\n",
       "        text-align: right;\n",
       "    }\n",
       "</style>\n",
       "<table border=\"1\" class=\"dataframe\">\n",
       "  <thead>\n",
       "    <tr style=\"text-align: right;\">\n",
       "      <th></th>\n",
       "      <th>Rank</th>\n",
       "      <th>Player</th>\n",
       "      <th>Position</th>\n",
       "      <th>Team</th>\n",
       "    </tr>\n",
       "  </thead>\n",
       "  <tbody>\n",
       "    <tr>\n",
       "      <th>0</th>\n",
       "      <td>1</td>\n",
       "      <td>Patrick Mahomes</td>\n",
       "      <td>QB</td>\n",
       "      <td>Chiefs</td>\n",
       "    </tr>\n",
       "    <tr>\n",
       "      <th>1</th>\n",
       "      <td>2</td>\n",
       "      <td>Christian McCaffrey</td>\n",
       "      <td>RB</td>\n",
       "      <td>Panthers</td>\n",
       "    </tr>\n",
       "    <tr>\n",
       "      <th>2</th>\n",
       "      <td>3</td>\n",
       "      <td>Kyler Murray</td>\n",
       "      <td>QB</td>\n",
       "      <td>Cardinals</td>\n",
       "    </tr>\n",
       "    <tr>\n",
       "      <th>3</th>\n",
       "      <td>4</td>\n",
       "      <td>Josh Allen</td>\n",
       "      <td>QB</td>\n",
       "      <td>Bills</td>\n",
       "    </tr>\n",
       "    <tr>\n",
       "      <th>4</th>\n",
       "      <td>5</td>\n",
       "      <td>Alvin Kamara</td>\n",
       "      <td>RB</td>\n",
       "      <td>Saints</td>\n",
       "    </tr>\n",
       "    <tr>\n",
       "      <th>...</th>\n",
       "      <td>...</td>\n",
       "      <td>...</td>\n",
       "      <td>...</td>\n",
       "      <td>...</td>\n",
       "    </tr>\n",
       "    <tr>\n",
       "      <th>195</th>\n",
       "      <td>196</td>\n",
       "      <td>Cordarrelle Patterson</td>\n",
       "      <td>RB</td>\n",
       "      <td>Falcons</td>\n",
       "    </tr>\n",
       "    <tr>\n",
       "      <th>196</th>\n",
       "      <td>197</td>\n",
       "      <td>Kadarius Toney</td>\n",
       "      <td>WR</td>\n",
       "      <td>Giants</td>\n",
       "    </tr>\n",
       "    <tr>\n",
       "      <th>197</th>\n",
       "      <td>198</td>\n",
       "      <td>Elijah Moore</td>\n",
       "      <td>WR</td>\n",
       "      <td>Jets</td>\n",
       "    </tr>\n",
       "    <tr>\n",
       "      <th>198</th>\n",
       "      <td>199</td>\n",
       "      <td>Zach Ertz</td>\n",
       "      <td>TE</td>\n",
       "      <td>Eagles</td>\n",
       "    </tr>\n",
       "    <tr>\n",
       "      <th>199</th>\n",
       "      <td>200</td>\n",
       "      <td>Gerald Everett</td>\n",
       "      <td>TE</td>\n",
       "      <td>Seahawks</td>\n",
       "    </tr>\n",
       "  </tbody>\n",
       "</table>\n",
       "<p>200 rows × 4 columns</p>\n",
       "</div>"
      ]
     },
     "metadata": {},
     "execution_count": 74
    }
   ],
   "metadata": {}
  }
 ],
 "metadata": {
  "kernelspec": {
   "name": "python3",
   "display_name": "Python 3.8.6 64-bit ('fantasy_football-XBar1lHP': pipenv)"
  },
  "language_info": {
   "codemirror_mode": {
    "name": "ipython",
    "version": 3
   },
   "file_extension": ".py",
   "mimetype": "text/x-python",
   "name": "python",
   "nbconvert_exporter": "python",
   "pygments_lexer": "ipython3",
   "version": "3.8.6"
  },
  "interpreter": {
   "hash": "a733698342c290e39d9454f62e0dbd2092bf2c69e00520c044577fc87bba0e0e"
  }
 },
 "nbformat": 4,
 "nbformat_minor": 5
}