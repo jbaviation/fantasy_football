{
 "cells": [
  {
   "cell_type": "code",
   "execution_count": 4,
   "id": "1ba33de3-1d0d-45c5-be16-a750f92ea1cc",
   "metadata": {},
   "outputs": [
    {
     "ename": "ModuleNotFoundError",
     "evalue": "No module named 'yahoo_oauth'",
     "output_type": "error",
     "traceback": [
      "\u001b[1;31m---------------------------------------------------------------------------\u001b[0m",
      "\u001b[1;31mModuleNotFoundError\u001b[0m                       Traceback (most recent call last)",
      "\u001b[1;32m<ipython-input-4-fff44f9d765f>\u001b[0m in \u001b[0;36m<module>\u001b[1;34m\u001b[0m\n\u001b[1;32m----> 1\u001b[1;33m \u001b[1;32mfrom\u001b[0m \u001b[0myahoo_oauth\u001b[0m \u001b[1;32mimport\u001b[0m \u001b[0mOAuth1\u001b[0m\u001b[1;33m\u001b[0m\u001b[1;33m\u001b[0m\u001b[0m\n\u001b[0m\u001b[0;32m      2\u001b[0m \u001b[0moauth\u001b[0m \u001b[1;33m=\u001b[0m \u001b[0mOAuth1\u001b[0m\u001b[1;33m(\u001b[0m\u001b[1;32mNone\u001b[0m\u001b[1;33m,\u001b[0m \u001b[1;32mNone\u001b[0m\u001b[1;33m,\u001b[0m \u001b[0mfrom_file\u001b[0m\u001b[1;33m=\u001b[0m\u001b[1;34m'yahoo.json'\u001b[0m\u001b[1;33m)\u001b[0m\u001b[1;33m\u001b[0m\u001b[1;33m\u001b[0m\u001b[0m\n\u001b[0;32m      3\u001b[0m \u001b[1;33m\u001b[0m\u001b[0m\n\u001b[0;32m      4\u001b[0m \u001b[1;32mif\u001b[0m \u001b[1;32mnot\u001b[0m \u001b[0moauth\u001b[0m\u001b[1;33m.\u001b[0m\u001b[0mtoken_is_valid\u001b[0m\u001b[1;33m(\u001b[0m\u001b[1;33m)\u001b[0m\u001b[1;33m:\u001b[0m\u001b[1;33m\u001b[0m\u001b[1;33m\u001b[0m\u001b[0m\n\u001b[0;32m      5\u001b[0m     \u001b[0moauth\u001b[0m\u001b[1;33m.\u001b[0m\u001b[0mrefresh_access_token\u001b[0m\u001b[1;33m(\u001b[0m\u001b[1;33m)\u001b[0m\u001b[1;33m\u001b[0m\u001b[1;33m\u001b[0m\u001b[0m\n",
      "\u001b[1;31mModuleNotFoundError\u001b[0m: No module named 'yahoo_oauth'"
     ]
    }
   ],
   "source": [
    "from yahoo_oauth import OAuth1\n",
    "oauth = OAuth1(None, None, from_file='yahoo.json')\n",
    "\n",
    "if not oauth.token_is_valid():\n",
    "    oauth.refresh_access_token()\n",
    "    \n",
    "response = oauth.session.post(url, data=body)"
   ]
  },
  {
   "cell_type": "code",
   "execution_count": 9,
   "id": "d88a1653-f2b8-4ec5-a326-cc56769bca8a",
   "metadata": {},
   "outputs": [],
   "source": [
    "import json\n",
    "d = {\n",
    "    \"consumer_key\": \"dj0yJmk9WGxncWVWdVc3N0czJmQ9WVdrOWFXOHlORUkwZFhnbWNHbzlNQT09JnM9Y29uc3VtZXJzZWNyZXQmc3Y9MCZ4PTA2\",\n",
    "    \"consumer_secret\": \"85ad9fa6ddb720460872fcc0c0a78d70496c4675\"\n",
    "    }\n",
    "with open('yahoo.json', 'w') as outfile:\n",
    "    json.dump(d, outfile)"
   ]
  },
  {
   "cell_type": "markdown",
   "id": "44e788db-0fa8-46bc-82d5-bb2f41c4ac2d",
   "metadata": {},
   "source": [
    "## Test yahoo-fantasy-api"
   ]
  },
  {
   "cell_type": "code",
   "execution_count": 13,
   "id": "37943ef3-2d1a-47f1-b5b8-9733fb2d4720",
   "metadata": {},
   "outputs": [
    {
     "ename": "ModuleNotFoundError",
     "evalue": "No module named 'yahoo_fantasy_api'",
     "output_type": "error",
     "traceback": [
      "\u001b[1;31m---------------------------------------------------------------------------\u001b[0m",
      "\u001b[1;31mModuleNotFoundError\u001b[0m                       Traceback (most recent call last)",
      "\u001b[1;32m<ipython-input-13-18ed4109e19d>\u001b[0m in \u001b[0;36m<module>\u001b[1;34m\u001b[0m\n\u001b[1;32m----> 1\u001b[1;33m \u001b[1;32mimport\u001b[0m \u001b[0myahoo_fantasy_api\u001b[0m \u001b[1;32mas\u001b[0m \u001b[0myfa\u001b[0m\u001b[1;33m\u001b[0m\u001b[1;33m\u001b[0m\u001b[0m\n\u001b[0m",
      "\u001b[1;31mModuleNotFoundError\u001b[0m: No module named 'yahoo_fantasy_api'"
     ]
    }
   ],
   "source": [
    "import yahoo_fantasy_api as yfa"
   ]
  }
 ],
 "metadata": {
  "kernelspec": {
   "display_name": "Python 3",
   "language": "python",
   "name": "python3"
  },
  "language_info": {
   "codemirror_mode": {
    "name": "ipython",
    "version": 3
   },
   "file_extension": ".py",
   "mimetype": "text/x-python",
   "name": "python",
   "nbconvert_exporter": "python",
   "pygments_lexer": "ipython3",
   "version": "3.8.8"
  }
 },
 "nbformat": 4,
 "nbformat_minor": 5
}
