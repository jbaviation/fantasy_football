{
 "cells": [
  {
   "cell_type": "markdown",
   "source": [
    "## Test yahoo-fantasy-api"
   ],
   "metadata": {}
  },
  {
   "cell_type": "code",
   "execution_count": 51,
   "source": [
    "from yahoo_oauth import OAuth2\r\n",
    "import yahoo_fantasy_api as yfa\r\n",
    "import google_sheets as gs\r\n",
    "\r\n",
    "from importlib import reload\r\n",
    "reload(gs)\r\n",
    "\r\n",
    "oauth = OAuth2(None, None, from_file='yahoo.json')"
   ],
   "outputs": [
    {
     "output_type": "stream",
     "name": "stderr",
     "text": [
      "[2021-08-24 16:46:46,604 DEBUG] [yahoo_oauth.oauth.__init__] Checking \n"
     ]
    }
   ],
   "metadata": {}
  },
  {
   "cell_type": "code",
   "execution_count": 52,
   "source": [
    "gm = yfa.Game(oauth, 'nfl')\r\n",
    "gm.league_ids(year=2020)"
   ],
   "outputs": [
    {
     "output_type": "execute_result",
     "data": {
      "text/plain": [
       "['399.l.448259']"
      ]
     },
     "metadata": {},
     "execution_count": 52
    }
   ],
   "metadata": {}
  },
  {
   "cell_type": "code",
   "execution_count": 72,
   "source": [
    "import yff\r\n",
    "reload(yff)\r\n",
    "\r\n",
    "ssn = yff.fantasy_season(oauth, 2020)"
   ],
   "outputs": [],
   "metadata": {}
  },
  {
   "cell_type": "code",
   "execution_count": 73,
   "source": [
    "ssn.get_team_data(11)"
   ],
   "outputs": [],
   "metadata": {}
  },
  {
   "cell_type": "code",
   "execution_count": 74,
   "source": [
    "ssn.team"
   ],
   "outputs": [
    {
     "output_type": "execute_result",
     "data": {
      "text/plain": [
       "<yahoo_fantasy_api.team.Team at 0x12c959be730>"
      ]
     },
     "metadata": {},
     "execution_count": 74
    }
   ],
   "metadata": {}
  }
 ],
 "metadata": {
  "kernelspec": {
   "name": "python3",
   "display_name": "Python 3.8.6 64-bit ('fantasy_football-XBar1lHP': pipenv)"
  },
  "language_info": {
   "codemirror_mode": {
    "name": "ipython",
    "version": 3
   },
   "file_extension": ".py",
   "mimetype": "text/x-python",
   "name": "python",
   "nbconvert_exporter": "python",
   "pygments_lexer": "ipython3",
   "version": "3.8.6"
  },
  "interpreter": {
   "hash": "a733698342c290e39d9454f62e0dbd2092bf2c69e00520c044577fc87bba0e0e"
  }
 },
 "nbformat": 4,
 "nbformat_minor": 5
}